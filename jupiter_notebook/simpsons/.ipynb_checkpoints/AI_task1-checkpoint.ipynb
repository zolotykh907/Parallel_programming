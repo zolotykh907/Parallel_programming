{
 "cells": [
  {
   "cell_type": "code",
   "execution_count": 1,
   "id": "56e838ab-442f-4e49-bccb-4489f60f6ac9",
   "metadata": {},
   "outputs": [],
   "source": [
    "import os\n",
    "os.environ[\"CUDA_VISIBLE_DEVICES\"]=\"0\"\n",
    "# os.environ['CUDA_LAUNCH_BLOCKING'] = \"0\""
   ]
  },
  {
   "cell_type": "code",
   "execution_count": 2,
   "id": "639835d6-6356-47b9-afa1-a4dfab8d2193",
   "metadata": {},
   "outputs": [
    {
     "name": "stdout",
     "output_type": "stream",
     "text": [
      "Wed Mar  6 14:31:06 2024       \n",
      "+---------------------------------------------------------------------------------------+\n",
      "| NVIDIA-SMI 535.154.05             Driver Version: 535.154.05   CUDA Version: 12.2     |\n",
      "|-----------------------------------------+----------------------+----------------------+\n",
      "| GPU  Name                 Persistence-M | Bus-Id        Disp.A | Volatile Uncorr. ECC |\n",
      "| Fan  Temp   Perf          Pwr:Usage/Cap |         Memory-Usage | GPU-Util  Compute M. |\n",
      "|                                         |                      |               MIG M. |\n",
      "|=========================================+======================+======================|\n",
      "|   0  Tesla V100-SXM2-32GB           Off | 00000000:89:00.0 Off |                    0 |\n",
      "| N/A   27C    P0              41W / 300W |      0MiB / 32768MiB |      0%      Default |\n",
      "|                                         |                      |                  N/A |\n",
      "+-----------------------------------------+----------------------+----------------------+\n",
      "|   1  Tesla V100-SXM2-32GB           Off | 00000000:8A:00.0 Off |                    0 |\n",
      "| N/A   32C    P0              54W / 300W |   7197MiB / 32768MiB |      0%      Default |\n",
      "|                                         |                      |                  N/A |\n",
      "+-----------------------------------------+----------------------+----------------------+\n",
      "|   2  Tesla V100-SXM2-32GB           Off | 00000000:B2:00.0 Off |                    0 |\n",
      "| N/A   25C    P0              39W / 300W |      0MiB / 32768MiB |      0%      Default |\n",
      "|                                         |                      |                  N/A |\n",
      "+-----------------------------------------+----------------------+----------------------+\n",
      "|   3  Tesla V100-SXM2-32GB           Off | 00000000:B3:00.0 Off |                    0 |\n",
      "| N/A   28C    P0              40W / 300W |      0MiB / 32768MiB |      0%      Default |\n",
      "|                                         |                      |                  N/A |\n",
      "+-----------------------------------------+----------------------+----------------------+\n",
      "                                                                                         \n",
      "+---------------------------------------------------------------------------------------+\n",
      "| Processes:                                                                            |\n",
      "|  GPU   GI   CI        PID   Type   Process name                            GPU Memory |\n",
      "|        ID   ID                                                             Usage      |\n",
      "|=======================================================================================|\n",
      "+---------------------------------------------------------------------------------------+\n"
     ]
    }
   ],
   "source": [
    "!nvidia-smi"
   ]
  },
  {
   "cell_type": "code",
   "execution_count": 3,
   "id": "abaea500-3940-437c-9290-3a096cb5e859",
   "metadata": {},
   "outputs": [],
   "source": [
    "import os\n",
    "import torch\n",
    "import torch.nn as nn\n",
    "import torch.optim as optim\n",
    "import torch.nn.functional as f\n",
    "import torchvision\n",
    "import torchvision.transforms as transforms\n",
    "import matplotlib.pyplot as plt\n",
    "import numpy as np\n",
    "import matplotlib\n",
    "import zipfile\n",
    "import shutil\n",
    "import time\n",
    "import matplotlib.pyplot as plt\n",
    "from torch.utils.data import random_split\n",
    "from tqdm import tqdm_gui\n",
    "from PIL import Image\n",
    "from sklearn.model_selection import train_test_split\n",
    "from torch.utils.data import DataLoader\n",
    "from torchvision.datasets import ImageFolder\n",
    "\n",
    "%matplotlib inline"
   ]
  },
  {
   "cell_type": "code",
   "execution_count": 4,
   "id": "29d0bb98-76c0-4dfe-94fc-908e6f3a83a0",
   "metadata": {},
   "outputs": [],
   "source": [
    "import torch\n",
    "\n",
    "# Check if CUDA is available\n",
    "\n",
    "device = torch.device(\"cuda\")\n"
   ]
  },
  {
   "cell_type": "code",
   "execution_count": 5,
   "id": "5c5cff40-4653-4e8d-aa40-c426ba3e1d07",
   "metadata": {
    "scrolled": true
   },
   "outputs": [
    {
     "name": "stdout",
     "output_type": "stream",
     "text": [
      "Классы: ['abraham_grampa_simpson', 'agnes_skinner', 'apu_nahasapeemapetilon', 'barney_gumble', 'bart_simpson', 'carl_carlson', 'charles_montgomery_burns', 'chief_wiggum', 'cletus_spuckler', 'comic_book_guy', 'disco_stu', 'edna_krabappel', 'fat_tony', 'gil', 'groundskeeper_willie', 'homer_simpson', 'kent_brockman', 'krusty_the_clown', 'lenny_leonard', 'lionel_hutz', 'lisa_simpson', 'maggie_simpson', 'marge_simpson', 'martin_prince', 'mayor_quimby', 'milhouse_van_houten', 'miss_hoover', 'moe_szyslak', 'ned_flanders', 'nelson_muntz', 'otto_mann', 'patty_bouvier', 'principal_skinner', 'professor_john_frink', 'rainier_wolfcastle', 'ralph_wiggum', 'selma_bouvier', 'sideshow_bob', 'sideshow_mel', 'snake_jailbird', 'troy_mcclure', 'waylon_smithers']\n"
     ]
    }
   ],
   "source": [
    "directory = '/home/i.zolotykh/simpsons_dataset/'\n",
    "classes = os.listdir(directory)\n",
    "\n",
    "transform = transforms.Compose([\n",
    "    transforms.Resize((256, 256)),\n",
    "    transforms.ToTensor(),\n",
    "    transforms.Normalize(mean=[0.5, 0.5, 0.5], std=[0.5, 0.5, 0.5])\n",
    "])\n",
    "\n",
    "data_dir = '/home/i.zolotykh/simpsons_dataset/'\n",
    "\n",
    "dataset = ImageFolder(root=data_dir, transform=transform)\n",
    "\n",
    "train_size = int(0.8 * len(dataset))\n",
    "val_size = len(dataset) - train_size\n",
    "train_dataset, val_dataset = random_split(dataset, [train_size, val_size])\n",
    "\n",
    "print(\"Классы:\", dataset.classes)\n",
    "#print(\"Индексы классов:\", dataset.class_to_idx)\n"
   ]
  },
  {
   "cell_type": "code",
   "execution_count": 6,
   "id": "3255fda8-4fe0-4721-8d4a-454e152badf8",
   "metadata": {},
   "outputs": [],
   "source": [
    "directory = '/home/i.zolotykh/kaggle_simpson_testset/kaggle_simpson_testset/'\n",
    "\n",
    "test_classes = []\n",
    "test_images = []\n",
    "\n",
    "def del_digit(img_name):\n",
    "  for char in img_name:\n",
    "    if char.isdigit():\n",
    "      img_name = img_name.replace(char, '')\n",
    "\n",
    "  clas = img_name[:-5]\n",
    "  test_classes.append(dataset.class_to_idx[clas])\n",
    "\n",
    "test_imgs = os.listdir(directory)\n",
    "for img in test_imgs:\n",
    "  image_path = directory + img\n",
    "  image = Image.open(image_path)\n",
    "  test_images.append(transform(image).unsqueeze(0))\n",
    "  del_digit(img)"
   ]
  },
  {
   "cell_type": "code",
   "execution_count": 7,
   "id": "63b1152b-1677-4c82-a511-580a43e82717",
   "metadata": {},
   "outputs": [],
   "source": [
    "class My_CNN(nn.Module):\n",
    "    def __init__(self, num_classes):\n",
    "        super(My_CNN, self).__init__()\n",
    "        self.conv1 = nn.Conv2d(in_channels=3, out_channels=16, kernel_size=3, stride=1, padding=1)\n",
    "        self.conv2 = nn.Conv2d(in_channels=16, out_channels=32, kernel_size=3, stride=1, padding=1)\n",
    "        self.conv3 = nn.Conv2d(in_channels=32, out_channels=64, kernel_size=3, stride=1, padding=1)\n",
    "        self.pool = nn.MaxPool2d(kernel_size=2, stride=2, padding=0)\n",
    "        self.fc1 = nn.Linear(64 * 32 * 32, 256)\n",
    "        self.fc2 = nn.Linear(256, num_classes)\n",
    "        self.relu = nn.ReLU()\n",
    "\n",
    "    def forward(self, x):\n",
    "        x = self.relu(self.conv1(x))\n",
    "        x = self.pool(x)\n",
    "        x = self.relu(self.conv2(x))\n",
    "        x = self.pool(x)\n",
    "        x = self.relu(self.conv3(x))\n",
    "        x = self.pool(x)\n",
    "        x = x.view(-1, 64 * 32 * 32)\n",
    "        x = self.relu(self.fc1(x))\n",
    "        x = self.fc2(x)\n",
    "        return x\n"
   ]
  },
  {
   "cell_type": "code",
   "execution_count": 8,
   "id": "57b31518-7ea1-426e-98d9-68c53d9e8595",
   "metadata": {},
   "outputs": [],
   "source": [
    "batch_size = 1024\n",
    "learning_rate = 0.001\n",
    "num_epochs = 50\n",
    "\n",
    "train_losses, val_losses = [], []\n",
    "train_accuracy, val_accuracy = [], []\n",
    "\n",
    "def learning():\n",
    "\n",
    "  model = My_CNN(num_classes = 42)\n",
    "  model.cuda()\n",
    "\n",
    "  criterion = nn.CrossEntropyLoss()\n",
    "  optimizer = optim.Adam(model.parameters(), lr = learning_rate)\n",
    "\n",
    "  train_dataloader = DataLoader(train_dataset, batch_size=batch_size, shuffle = True)\n",
    "  val_dataloader = DataLoader(val_dataset, batch_size = batch_size, shuffle = False)\n",
    "\n",
    "  for epoch in range(num_epochs):\n",
    "    start_time = time.time()\n",
    "    model.train()\n",
    "    running_loss = 0.0\n",
    "    for images, labels in train_dataloader:\n",
    "      images, labels = images.cuda(), labels.cuda()\n",
    "      optimizer.zero_grad()\n",
    "      outputs = model(images)\n",
    "      loss = criterion(outputs, labels)\n",
    "      loss.backward()\n",
    "      optimizer.step()\n",
    "      running_loss += loss.item()\n",
    "\n",
    "    end_time = time.time()\n",
    "    epoch_time = end_time - start_time\n",
    "\n",
    "    train_loss = running_loss/len(train_dataloader)\n",
    "    train_losses.append(loss)\n",
    "\n",
    "    print(f\"Epoch {epoch+1}/{num_epochs}, Loss: {loss}, time = {epoch_time}\")\n",
    "\n",
    "    model.eval()\n",
    "    val_running_loss = 0.0\n",
    "    correct = 0\n",
    "    total = 0\n",
    "    with torch.no_grad():\n",
    "        for images, labels in val_dataloader:\n",
    "            images, labels = images.cuda(), labels.cuda()\n",
    "            outputs = model(images)\n",
    "            val_loss = criterion(outputs, labels)\n",
    "            val_running_loss += val_loss.item()\n",
    "            _, predicted = torch.max(outputs, 1)\n",
    "            total += labels.size(0)\n",
    "            correct += (predicted == labels).sum().item()\n",
    "\n",
    "    val_loss = val_running_loss / len(val_dataloader)\n",
    "    val_losses.append(val_loss)\n",
    "    val_accuracy = correct / total\n",
    "    print(f\"Validation Loss: {val_loss}, Validation Accuracy: {val_accuracy}\")\n",
    "\n",
    "  torch.save(model.state_dict(), '/home/i.zolotykh/model_weights_2.pth')"
   ]
  },
  {
   "cell_type": "code",
   "execution_count": 9,
   "id": "e6d7097c-07ab-4da5-a464-e92bc6503cc9",
   "metadata": {},
   "outputs": [
    {
     "name": "stdout",
     "output_type": "stream",
     "text": [
      "Epoch 1/50, Loss: 3.216912269592285, time = 72.90180492401123\n",
      "Validation Loss: 3.2490231513977053, Validation Accuracy: 0.07642703606400764\n",
      "Epoch 2/50, Loss: 2.8374369144439697, time = 72.74829339981079\n",
      "Validation Loss: 2.9022552967071533, Validation Accuracy: 0.19656078337711966\n",
      "Epoch 3/50, Loss: 2.5063343048095703, time = 67.97072052955627\n",
      "Validation Loss: 2.4760793685913085, Validation Accuracy: 0.3458323381896346\n",
      "Epoch 4/50, Loss: 2.113124132156372, time = 67.40369033813477\n",
      "Validation Loss: 2.096797752380371, Validation Accuracy: 0.4521136852161452\n",
      "Epoch 5/50, Loss: 1.8668574094772339, time = 72.39599704742432\n",
      "Validation Loss: 1.8553837776184081, Validation Accuracy: 0.5187485072844519\n",
      "Epoch 6/50, Loss: 1.5125995874404907, time = 67.8142638206482\n",
      "Validation Loss: 1.6770637512207032, Validation Accuracy: 0.5490804872223549\n",
      "Epoch 7/50, Loss: 1.1394767761230469, time = 69.99381303787231\n",
      "Validation Loss: 1.5574487924575806, Validation Accuracy: 0.5870551707666587\n",
      "Epoch 8/50, Loss: 1.0467146635055542, time = 72.81067371368408\n",
      "Validation Loss: 1.4703827619552612, Validation Accuracy: 0.6147599713398615\n",
      "Epoch 9/50, Loss: 0.8483295440673828, time = 71.7719554901123\n",
      "Validation Loss: 1.4258248805999756, Validation Accuracy: 0.6305230475280631\n",
      "Epoch 10/50, Loss: 0.7654379606246948, time = 72.57020211219788\n",
      "Validation Loss: 1.3839858531951905, Validation Accuracy: 0.6558395032242655\n",
      "Epoch 11/50, Loss: 0.5673484802246094, time = 82.80226135253906\n",
      "Validation Loss: 1.45207941532135, Validation Accuracy: 0.6436589443515643\n",
      "Epoch 12/50, Loss: 0.5292463898658752, time = 75.1556077003479\n",
      "Validation Loss: 1.3705378532409669, Validation Accuracy: 0.6849773107236685\n",
      "Epoch 13/50, Loss: 0.40681105852127075, time = 72.32822918891907\n",
      "Validation Loss: 1.434084701538086, Validation Accuracy: 0.6880821590637688\n",
      "Epoch 14/50, Loss: 0.1718241572380066, time = 79.98365211486816\n",
      "Validation Loss: 1.538728666305542, Validation Accuracy: 0.6842608072605684\n",
      "Epoch 15/50, Loss: 0.1515451967716217, time = 74.89305377006531\n",
      "Validation Loss: 1.7050217390060425, Validation Accuracy: 0.6928588488177693\n",
      "Epoch 16/50, Loss: 0.06507891416549683, time = 82.50190854072571\n",
      "Validation Loss: 1.7643908500671386, Validation Accuracy: 0.6938141867685694\n",
      "Epoch 17/50, Loss: 0.05831414833664894, time = 80.84058141708374\n",
      "Validation Loss: 1.8746762990951538, Validation Accuracy: 0.6976355385717697\n",
      "Epoch 18/50, Loss: 0.026388462632894516, time = 74.226398229599\n",
      "Validation Loss: 1.979331111907959, Validation Accuracy: 0.70050155242417\n",
      "Epoch 19/50, Loss: 0.009316088631749153, time = 76.77807259559631\n",
      "Validation Loss: 2.0402227878570556, Validation Accuracy: 0.7014568903749702\n",
      "Epoch 20/50, Loss: 0.007895751856267452, time = 68.74896454811096\n",
      "Validation Loss: 2.1203068256378175, Validation Accuracy: 0.6976355385717697\n",
      "Epoch 21/50, Loss: 0.004894495476037264, time = 83.70824646949768\n",
      "Validation Loss: 2.139760637283325, Validation Accuracy: 0.7076665870551707\n",
      "Epoch 22/50, Loss: 0.004799155052751303, time = 90.29436874389648\n",
      "Validation Loss: 2.1797963619232177, Validation Accuracy: 0.7033675662765704\n",
      "Epoch 23/50, Loss: 0.0033604144118726254, time = 68.88088846206665\n",
      "Validation Loss: 2.225518321990967, Validation Accuracy: 0.7083830905182709\n",
      "Epoch 24/50, Loss: 0.0070065646432340145, time = 72.98605132102966\n",
      "Validation Loss: 2.2687567234039308, Validation Accuracy: 0.7069500835920707\n",
      "Epoch 25/50, Loss: 0.009361098520457745, time = 77.57345151901245\n",
      "Validation Loss: 2.2876189708709718, Validation Accuracy: 0.6950083592070695\n",
      "Epoch 26/50, Loss: 0.025251369923353195, time = 69.09680008888245\n",
      "Validation Loss: 2.214524841308594, Validation Accuracy: 0.6911870074038691\n",
      "Epoch 27/50, Loss: 0.008799035102128983, time = 78.72146391868591\n",
      "Validation Loss: 2.267436075210571, Validation Accuracy: 0.6964413661332697\n",
      "Epoch 28/50, Loss: 0.00971486046910286, time = 74.92409205436707\n",
      "Validation Loss: 2.2904383182525634, Validation Accuracy: 0.70002388344877\n",
      "Epoch 29/50, Loss: 0.0033316698390990496, time = 70.32057809829712\n",
      "Validation Loss: 2.3082533359527586, Validation Accuracy: 0.7062335801289706\n",
      "Epoch 30/50, Loss: 0.001903411466628313, time = 107.82580065727234\n",
      "Validation Loss: 2.380711030960083, Validation Accuracy: 0.7052782421781705\n",
      "Epoch 31/50, Loss: 0.0011667930521070957, time = 82.53142356872559\n",
      "Validation Loss: 2.3879053592681885, Validation Accuracy: 0.7026510628134702\n",
      "Epoch 32/50, Loss: 0.0009969334350898862, time = 80.76354455947876\n",
      "Validation Loss: 2.413334512710571, Validation Accuracy: 0.7059947456412706\n",
      "Epoch 33/50, Loss: 0.011303959414362907, time = 95.94203281402588\n",
      "Validation Loss: 2.430075454711914, Validation Accuracy: 0.7038452352519704\n",
      "Epoch 34/50, Loss: 0.001098270295187831, time = 72.66364789009094\n",
      "Validation Loss: 2.4444408416748047, Validation Accuracy: 0.7040840697396704\n",
      "Epoch 35/50, Loss: 0.0006538167945109308, time = 84.8277096748352\n",
      "Validation Loss: 2.4363284587860106, Validation Accuracy: 0.7081442560305709\n",
      "Epoch 36/50, Loss: 0.0006624237284995615, time = 78.64020299911499\n",
      "Validation Loss: 2.4502712726593017, Validation Accuracy: 0.7069500835920707\n",
      "Epoch 37/50, Loss: 0.0006402004510164261, time = 72.18984007835388\n",
      "Validation Loss: 2.4598069190979004, Validation Accuracy: 0.7050394076904705\n",
      "Epoch 38/50, Loss: 0.001070036320015788, time = 85.95030188560486\n",
      "Validation Loss: 2.4973956108093263, Validation Accuracy: 0.7074277525674707\n",
      "Epoch 39/50, Loss: 0.00044758355943486094, time = 76.53759264945984\n",
      "Validation Loss: 2.513278865814209, Validation Accuracy: 0.7067112491043707\n",
      "Epoch 40/50, Loss: 0.00036426150472834706, time = 72.69928121566772\n",
      "Validation Loss: 2.4866683006286623, Validation Accuracy: 0.7074277525674707\n",
      "Epoch 41/50, Loss: 0.000521890411619097, time = 89.30783200263977\n",
      "Validation Loss: 2.515248203277588, Validation Accuracy: 0.7057559111535706\n",
      "Epoch 42/50, Loss: 0.0004187994636595249, time = 71.94585680961609\n",
      "Validation Loss: 2.525704097747803, Validation Accuracy: 0.7064724146166707\n",
      "Epoch 43/50, Loss: 0.06247282028198242, time = 95.89455771446228\n",
      "Validation Loss: 2.5344987869262696, Validation Accuracy: 0.7055170766658706\n",
      "Epoch 44/50, Loss: 0.0014176381519064307, time = 95.66769647598267\n",
      "Validation Loss: 2.557500982284546, Validation Accuracy: 0.7062335801289706\n",
      "Epoch 45/50, Loss: 0.0015005365712568164, time = 74.29492115974426\n",
      "Validation Loss: 2.5139419555664064, Validation Accuracy: 0.7038452352519704\n",
      "Epoch 46/50, Loss: 0.0034762623254209757, time = 87.84157013893127\n",
      "Validation Loss: 2.5357619285583497, Validation Accuracy: 0.6988297110102699\n",
      "Epoch 47/50, Loss: 0.0022805575281381607, time = 84.6041932106018\n",
      "Validation Loss: 2.538582706451416, Validation Accuracy: 0.7067112491043707\n",
      "Epoch 48/50, Loss: 0.0008364419336430728, time = 75.51763224601746\n",
      "Validation Loss: 2.5513171672821047, Validation Accuracy: 0.7064724146166707\n",
      "Epoch 49/50, Loss: 0.0008873201441019773, time = 94.48090362548828\n",
      "Validation Loss: 2.611561346054077, Validation Accuracy: 0.7045617387150704\n",
      "Epoch 50/50, Loss: 0.001199888763949275, time = 112.20660209655762\n",
      "Validation Loss: 2.596662473678589, Validation Accuracy: 0.7057559111535706\n"
     ]
    }
   ],
   "source": [
    "learning()"
   ]
  },
  {
   "cell_type": "code",
   "execution_count": 11,
   "id": "f83e621b-bb16-48a5-b056-fcba1f34046a",
   "metadata": {},
   "outputs": [
    {
     "data": {
      "text/plain": [
       "<All keys matched successfully>"
      ]
     },
     "execution_count": 11,
     "metadata": {},
     "output_type": "execute_result"
    }
   ],
   "source": [
    "model = My_CNN(num_classes = 42).cuda()\n",
    "model.load_state_dict(torch.load('/home/i.zolotykh/model_weights_2.pth', map_location=torch.device('cuda')))"
   ]
  },
  {
   "cell_type": "code",
   "execution_count": null,
   "id": "d3131fc3-412f-4e61-a8fd-30d09b2fccb4",
   "metadata": {},
   "outputs": [],
   "source": [
    "model.eval()\n",
    "\n",
    "true = 0\n",
    "total = len(test_images)\n",
    "\n",
    "for image, label in zip(test_images, test_classes):\n",
    "    outputs = model(image.cuda())\n",
    "    if torch.argmax(outputs) == label:\n",
    "      true += 1\n",
    "\n",
    "print(true/total)"
   ]
  },
  {
   "cell_type": "code",
   "execution_count": null,
   "id": "b8285b02-6944-4d2c-bde4-3ac086383fd1",
   "metadata": {},
   "outputs": [],
   "source": [
    "image_path = '045nelson.jpg'\n",
    "image = Image.open(image_path)\n",
    "\n",
    "plt.imshow(image.resize((128,128)))\n",
    "\n",
    "plt.show()\n",
    "\n",
    "input_image = transform(image).unsqueeze(0)\n",
    "\n",
    "with torch.no_grad():\n",
    "    model.eval()\n",
    "    output = model(input_image.cuda())\n",
    "    output = np.argmax(output.detach().cpu().numpy())\n",
    "    print(dataset.classes[output])\n",
    "\n",
    "\n"
   ]
  },
  {
   "cell_type": "code",
   "execution_count": null,
   "id": "76e8db6a-232a-41df-b6a2-6715e1abd904",
   "metadata": {},
   "outputs": [],
   "source": [
    "train_losses = [tensor.detach().cpu().numpy() for tensor in train_losses]"
   ]
  },
  {
   "cell_type": "code",
   "execution_count": null,
   "id": "0bc0828e-00ad-4629-b6ae-e235e78c4bca",
   "metadata": {},
   "outputs": [],
   "source": [
    "print(train_losses)"
   ]
  },
  {
   "cell_type": "code",
   "execution_count": null,
   "id": "6721e501-fda4-48d7-9d21-b97f5997fe73",
   "metadata": {},
   "outputs": [],
   "source": [
    "epochs = [epoch for epoch in range(num_epochs)]\n",
    "plt.plot(epochs, train_losses)\n",
    "plt.xlabel('Epochs')\n",
    "plt.ylabel('Train_Losses')\n",
    "plt.show()"
   ]
  },
  {
   "cell_type": "code",
   "execution_count": null,
   "id": "9c687a2e-f792-435f-b196-01db17191e51",
   "metadata": {},
   "outputs": [],
   "source": [
    "plt.plot(epochs, val_losses)\n",
    "plt.xlabel('Epochs')\n",
    "plt.ylabel('Val_Losses')\n",
    "plt.show()"
   ]
  }
 ],
 "metadata": {
  "kernelspec": {
   "display_name": "Python 3 (ipykernel)",
   "language": "python",
   "name": "python3"
  },
  "language_info": {
   "codemirror_mode": {
    "name": "ipython",
    "version": 3
   },
   "file_extension": ".py",
   "mimetype": "text/x-python",
   "name": "python",
   "nbconvert_exporter": "python",
   "pygments_lexer": "ipython3",
   "version": "3.10.12"
  }
 },
 "nbformat": 4,
 "nbformat_minor": 5
}
